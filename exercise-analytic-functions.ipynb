{
 "cells": [
  {
   "cell_type": "markdown",
   "id": "a24255e9",
   "metadata": {
    "papermill": {
     "duration": 0.003712,
     "end_time": "2025-08-18T20:46:31.453841",
     "exception": false,
     "start_time": "2025-08-18T20:46:31.450129",
     "status": "completed"
    },
    "tags": []
   },
   "source": [
    "**This notebook is an exercise in the [Advanced SQL](https://www.kaggle.com/learn/advanced-sql) course.  You can reference the tutorial at [this link](https://www.kaggle.com/alexisbcook/analytic-functions).**\n",
    "\n",
    "---\n"
   ]
  },
  {
   "cell_type": "markdown",
   "id": "ec78fc6b",
   "metadata": {
    "papermill": {
     "duration": 0.002776,
     "end_time": "2025-08-18T20:46:31.459964",
     "exception": false,
     "start_time": "2025-08-18T20:46:31.457188",
     "status": "completed"
    },
    "tags": []
   },
   "source": [
    "# Introduction\n",
    "\n",
    "Here, you'll use window functions to answer questions about the [Chicago Taxi Trips](https://www.kaggle.com/chicago/chicago-taxi-trips-bq) dataset.\n",
    "\n",
    "Before you get started, run the code cell below to set everything up."
   ]
  },
  {
   "cell_type": "code",
   "execution_count": 1,
   "id": "17af8ec7",
   "metadata": {
    "execution": {
     "iopub.execute_input": "2025-08-18T20:46:31.467078Z",
     "iopub.status.busy": "2025-08-18T20:46:31.466737Z",
     "iopub.status.idle": "2025-08-18T20:47:20.639698Z",
     "shell.execute_reply": "2025-08-18T20:47:20.638658Z"
    },
    "papermill": {
     "duration": 49.178403,
     "end_time": "2025-08-18T20:47:20.641308",
     "exception": false,
     "start_time": "2025-08-18T20:46:31.462905",
     "status": "completed"
    },
    "tags": []
   },
   "outputs": [
    {
     "name": "stdout",
     "output_type": "stream",
     "text": [
      "Collecting git+https://github.com/Kaggle/learntools.git\r\n",
      "  Cloning https://github.com/Kaggle/learntools.git to /tmp/pip-req-build-wt2crzkl\r\n",
      "  Running command git clone --filter=blob:none --quiet https://github.com/Kaggle/learntools.git /tmp/pip-req-build-wt2crzkl\r\n",
      "  Resolved https://github.com/Kaggle/learntools.git to commit a0c08ac1fa73dd42ba4aecf2cce045752f14f72b\r\n",
      "  Preparing metadata (setup.py) ... \u001b[?25l\u001b[?25hdone\r\n",
      "Building wheels for collected packages: learntools\r\n",
      "  Building wheel for learntools (setup.py) ... \u001b[?25l\u001b[?25hdone\r\n",
      "  Created wheel for learntools: filename=learntools-0.3.5-py3-none-any.whl size=269685 sha256=dede9a53ed5bd3b60dfcd40796e9a1df5e0b90b7f8f86a6f5f15dccccb9c4732\r\n",
      "  Stored in directory: /tmp/pip-ephem-wheel-cache-aaw7d8vv/wheels/50/16/ba/3e0ec276f3238de9e1c59751f34c7c3ea4a3f561af10c4fd0c\r\n",
      "Successfully built learntools\r\n",
      "Installing collected packages: learntools\r\n",
      "Successfully installed learntools-0.3.5\r\n",
      "Using Kaggle's public dataset BigQuery integration.\n"
     ]
    },
    {
     "name": "stderr",
     "output_type": "stream",
     "text": [
      "/usr/local/lib/python3.11/dist-packages/google/cloud/bigquery/table.py:1727: UserWarning: BigQuery Storage module not found, fetch data with the REST endpoint instead.\n",
      "  warnings.warn(\n"
     ]
    },
    {
     "name": "stdout",
     "output_type": "stream",
     "text": [
      "Setup Complete\n"
     ]
    }
   ],
   "source": [
    "# Get most recent checking code\n",
    "!pip install -U -t /kaggle/working/ git+https://github.com/Kaggle/learntools.git\n",
    "# Set up feedback system\n",
    "from learntools.core import binder\n",
    "binder.bind(globals())\n",
    "from learntools.sql_advanced.ex2 import *\n",
    "print(\"Setup Complete\")"
   ]
  },
  {
   "cell_type": "markdown",
   "id": "63aebaea",
   "metadata": {
    "papermill": {
     "duration": 0.003208,
     "end_time": "2025-08-18T20:47:20.648302",
     "exception": false,
     "start_time": "2025-08-18T20:47:20.645094",
     "status": "completed"
    },
    "tags": []
   },
   "source": [
    "The following code cell fetches the `taxi_trips` table from the `chicago_taxi_trips` dataset. We also preview the first five rows of the table.  You'll use the table to answer the questions below."
   ]
  },
  {
   "cell_type": "code",
   "execution_count": 2,
   "id": "2bef92d1",
   "metadata": {
    "execution": {
     "iopub.execute_input": "2025-08-18T20:47:20.656797Z",
     "iopub.status.busy": "2025-08-18T20:47:20.656301Z",
     "iopub.status.idle": "2025-08-18T20:47:22.067921Z",
     "shell.execute_reply": "2025-08-18T20:47:22.066790Z"
    },
    "papermill": {
     "duration": 1.417857,
     "end_time": "2025-08-18T20:47:22.069726",
     "exception": false,
     "start_time": "2025-08-18T20:47:20.651869",
     "status": "completed"
    },
    "tags": []
   },
   "outputs": [
    {
     "name": "stdout",
     "output_type": "stream",
     "text": [
      "Using Kaggle's public dataset BigQuery integration.\n"
     ]
    },
    {
     "name": "stderr",
     "output_type": "stream",
     "text": [
      "/usr/local/lib/python3.11/dist-packages/pandas/io/formats/format.py:1458: RuntimeWarning: invalid value encountered in greater\n",
      "  has_large_values = (abs_vals > 1e6).any()\n",
      "/usr/local/lib/python3.11/dist-packages/pandas/io/formats/format.py:1459: RuntimeWarning: invalid value encountered in less\n",
      "  has_small_values = ((abs_vals < 10 ** (-self.digits)) & (abs_vals > 0)).any()\n",
      "/usr/local/lib/python3.11/dist-packages/pandas/io/formats/format.py:1459: RuntimeWarning: invalid value encountered in greater\n",
      "  has_small_values = ((abs_vals < 10 ** (-self.digits)) & (abs_vals > 0)).any()\n",
      "/usr/local/lib/python3.11/dist-packages/pandas/io/formats/format.py:1458: RuntimeWarning: invalid value encountered in greater\n",
      "  has_large_values = (abs_vals > 1e6).any()\n",
      "/usr/local/lib/python3.11/dist-packages/pandas/io/formats/format.py:1459: RuntimeWarning: invalid value encountered in less\n",
      "  has_small_values = ((abs_vals < 10 ** (-self.digits)) & (abs_vals > 0)).any()\n",
      "/usr/local/lib/python3.11/dist-packages/pandas/io/formats/format.py:1459: RuntimeWarning: invalid value encountered in greater\n",
      "  has_small_values = ((abs_vals < 10 ** (-self.digits)) & (abs_vals > 0)).any()\n"
     ]
    },
    {
     "data": {
      "text/html": [
       "<div>\n",
       "<style scoped>\n",
       "    .dataframe tbody tr th:only-of-type {\n",
       "        vertical-align: middle;\n",
       "    }\n",
       "\n",
       "    .dataframe tbody tr th {\n",
       "        vertical-align: top;\n",
       "    }\n",
       "\n",
       "    .dataframe thead th {\n",
       "        text-align: right;\n",
       "    }\n",
       "</style>\n",
       "<table border=\"1\" class=\"dataframe\">\n",
       "  <thead>\n",
       "    <tr style=\"text-align: right;\">\n",
       "      <th></th>\n",
       "      <th>unique_key</th>\n",
       "      <th>taxi_id</th>\n",
       "      <th>trip_start_timestamp</th>\n",
       "      <th>trip_end_timestamp</th>\n",
       "      <th>trip_seconds</th>\n",
       "      <th>trip_miles</th>\n",
       "      <th>pickup_census_tract</th>\n",
       "      <th>dropoff_census_tract</th>\n",
       "      <th>pickup_community_area</th>\n",
       "      <th>dropoff_community_area</th>\n",
       "      <th>...</th>\n",
       "      <th>extras</th>\n",
       "      <th>trip_total</th>\n",
       "      <th>payment_type</th>\n",
       "      <th>company</th>\n",
       "      <th>pickup_latitude</th>\n",
       "      <th>pickup_longitude</th>\n",
       "      <th>pickup_location</th>\n",
       "      <th>dropoff_latitude</th>\n",
       "      <th>dropoff_longitude</th>\n",
       "      <th>dropoff_location</th>\n",
       "    </tr>\n",
       "  </thead>\n",
       "  <tbody>\n",
       "    <tr>\n",
       "      <th>0</th>\n",
       "      <td>9f4d762848799be329e007ae695297ddf2ec9e68</td>\n",
       "      <td>53b9f89457dbe76abd2c5d0d7f00e0c2bf48a1e1035122...</td>\n",
       "      <td>2019-09-09 15:00:00+00:00</td>\n",
       "      <td>2019-09-09 15:15:00+00:00</td>\n",
       "      <td>1279</td>\n",
       "      <td>14.39</td>\n",
       "      <td>&lt;NA&gt;</td>\n",
       "      <td>&lt;NA&gt;</td>\n",
       "      <td>&lt;NA&gt;</td>\n",
       "      <td>&lt;NA&gt;</td>\n",
       "      <td>...</td>\n",
       "      <td>24.0</td>\n",
       "      <td>60.75</td>\n",
       "      <td>Credit Card</td>\n",
       "      <td>Flash Cab</td>\n",
       "      <td>NaN</td>\n",
       "      <td>NaN</td>\n",
       "      <td>None</td>\n",
       "      <td>NaN</td>\n",
       "      <td>NaN</td>\n",
       "      <td>None</td>\n",
       "    </tr>\n",
       "    <tr>\n",
       "      <th>1</th>\n",
       "      <td>9f28593d41d91fcf46c81ab9395c2dc8a6a26c9a</td>\n",
       "      <td>a7108907c04f278905344870b79e80244259d14f1335b5...</td>\n",
       "      <td>2019-09-04 07:15:00+00:00</td>\n",
       "      <td>2019-09-04 07:45:00+00:00</td>\n",
       "      <td>1920</td>\n",
       "      <td>14.40</td>\n",
       "      <td>&lt;NA&gt;</td>\n",
       "      <td>&lt;NA&gt;</td>\n",
       "      <td>&lt;NA&gt;</td>\n",
       "      <td>&lt;NA&gt;</td>\n",
       "      <td>...</td>\n",
       "      <td>0.0</td>\n",
       "      <td>44.20</td>\n",
       "      <td>Credit Card</td>\n",
       "      <td>Star North Management LLC</td>\n",
       "      <td>NaN</td>\n",
       "      <td>NaN</td>\n",
       "      <td>None</td>\n",
       "      <td>NaN</td>\n",
       "      <td>NaN</td>\n",
       "      <td>None</td>\n",
       "    </tr>\n",
       "    <tr>\n",
       "      <th>2</th>\n",
       "      <td>9dd67852ff43243a3121d24ea21ac5f84dd798a1</td>\n",
       "      <td>81d652b4d1a83430b2ecbdd8f126b135f9f37b6115b7a5...</td>\n",
       "      <td>2019-09-05 07:15:00+00:00</td>\n",
       "      <td>2019-09-05 07:30:00+00:00</td>\n",
       "      <td>459</td>\n",
       "      <td>1.00</td>\n",
       "      <td>&lt;NA&gt;</td>\n",
       "      <td>&lt;NA&gt;</td>\n",
       "      <td>&lt;NA&gt;</td>\n",
       "      <td>&lt;NA&gt;</td>\n",
       "      <td>...</td>\n",
       "      <td>0.0</td>\n",
       "      <td>6.50</td>\n",
       "      <td>Cash</td>\n",
       "      <td>Taxi Affiliation Service Yellow</td>\n",
       "      <td>NaN</td>\n",
       "      <td>NaN</td>\n",
       "      <td>None</td>\n",
       "      <td>NaN</td>\n",
       "      <td>NaN</td>\n",
       "      <td>None</td>\n",
       "    </tr>\n",
       "    <tr>\n",
       "      <th>3</th>\n",
       "      <td>9e870b0b436c1124f41a4c1cef0457c5196fb6e3</td>\n",
       "      <td>22c06e3ec9587da0d7536065869f2da9965faf286be583...</td>\n",
       "      <td>2019-09-18 11:30:00+00:00</td>\n",
       "      <td>2019-09-18 11:30:00+00:00</td>\n",
       "      <td>450</td>\n",
       "      <td>1.10</td>\n",
       "      <td>&lt;NA&gt;</td>\n",
       "      <td>&lt;NA&gt;</td>\n",
       "      <td>&lt;NA&gt;</td>\n",
       "      <td>&lt;NA&gt;</td>\n",
       "      <td>...</td>\n",
       "      <td>0.0</td>\n",
       "      <td>6.50</td>\n",
       "      <td>Cash</td>\n",
       "      <td>Flash Cab</td>\n",
       "      <td>NaN</td>\n",
       "      <td>NaN</td>\n",
       "      <td>None</td>\n",
       "      <td>NaN</td>\n",
       "      <td>NaN</td>\n",
       "      <td>None</td>\n",
       "    </tr>\n",
       "    <tr>\n",
       "      <th>4</th>\n",
       "      <td>9db4f38602989a10d3cf516e42098492a4c89e3f</td>\n",
       "      <td>d651380c76d136dff3d8f30a44f5f5b017dbe925676ba6...</td>\n",
       "      <td>2019-09-03 15:45:00+00:00</td>\n",
       "      <td>2019-09-03 15:45:00+00:00</td>\n",
       "      <td>254</td>\n",
       "      <td>0.77</td>\n",
       "      <td>&lt;NA&gt;</td>\n",
       "      <td>&lt;NA&gt;</td>\n",
       "      <td>&lt;NA&gt;</td>\n",
       "      <td>&lt;NA&gt;</td>\n",
       "      <td>...</td>\n",
       "      <td>0.0</td>\n",
       "      <td>5.25</td>\n",
       "      <td>Cash</td>\n",
       "      <td>Flash Cab</td>\n",
       "      <td>NaN</td>\n",
       "      <td>NaN</td>\n",
       "      <td>None</td>\n",
       "      <td>NaN</td>\n",
       "      <td>NaN</td>\n",
       "      <td>None</td>\n",
       "    </tr>\n",
       "  </tbody>\n",
       "</table>\n",
       "<p>5 rows × 23 columns</p>\n",
       "</div>"
      ],
      "text/plain": [
       "                                 unique_key  \\\n",
       "0  9f4d762848799be329e007ae695297ddf2ec9e68   \n",
       "1  9f28593d41d91fcf46c81ab9395c2dc8a6a26c9a   \n",
       "2  9dd67852ff43243a3121d24ea21ac5f84dd798a1   \n",
       "3  9e870b0b436c1124f41a4c1cef0457c5196fb6e3   \n",
       "4  9db4f38602989a10d3cf516e42098492a4c89e3f   \n",
       "\n",
       "                                             taxi_id  \\\n",
       "0  53b9f89457dbe76abd2c5d0d7f00e0c2bf48a1e1035122...   \n",
       "1  a7108907c04f278905344870b79e80244259d14f1335b5...   \n",
       "2  81d652b4d1a83430b2ecbdd8f126b135f9f37b6115b7a5...   \n",
       "3  22c06e3ec9587da0d7536065869f2da9965faf286be583...   \n",
       "4  d651380c76d136dff3d8f30a44f5f5b017dbe925676ba6...   \n",
       "\n",
       "       trip_start_timestamp        trip_end_timestamp  trip_seconds  \\\n",
       "0 2019-09-09 15:00:00+00:00 2019-09-09 15:15:00+00:00          1279   \n",
       "1 2019-09-04 07:15:00+00:00 2019-09-04 07:45:00+00:00          1920   \n",
       "2 2019-09-05 07:15:00+00:00 2019-09-05 07:30:00+00:00           459   \n",
       "3 2019-09-18 11:30:00+00:00 2019-09-18 11:30:00+00:00           450   \n",
       "4 2019-09-03 15:45:00+00:00 2019-09-03 15:45:00+00:00           254   \n",
       "\n",
       "   trip_miles  pickup_census_tract  dropoff_census_tract  \\\n",
       "0       14.39                 <NA>                  <NA>   \n",
       "1       14.40                 <NA>                  <NA>   \n",
       "2        1.00                 <NA>                  <NA>   \n",
       "3        1.10                 <NA>                  <NA>   \n",
       "4        0.77                 <NA>                  <NA>   \n",
       "\n",
       "   pickup_community_area  dropoff_community_area  ...  extras  trip_total  \\\n",
       "0                   <NA>                    <NA>  ...    24.0       60.75   \n",
       "1                   <NA>                    <NA>  ...     0.0       44.20   \n",
       "2                   <NA>                    <NA>  ...     0.0        6.50   \n",
       "3                   <NA>                    <NA>  ...     0.0        6.50   \n",
       "4                   <NA>                    <NA>  ...     0.0        5.25   \n",
       "\n",
       "   payment_type                          company  pickup_latitude  \\\n",
       "0   Credit Card                        Flash Cab              NaN   \n",
       "1   Credit Card        Star North Management LLC              NaN   \n",
       "2          Cash  Taxi Affiliation Service Yellow              NaN   \n",
       "3          Cash                        Flash Cab              NaN   \n",
       "4          Cash                        Flash Cab              NaN   \n",
       "\n",
       "  pickup_longitude pickup_location  dropoff_latitude  dropoff_longitude  \\\n",
       "0              NaN            None               NaN                NaN   \n",
       "1              NaN            None               NaN                NaN   \n",
       "2              NaN            None               NaN                NaN   \n",
       "3              NaN            None               NaN                NaN   \n",
       "4              NaN            None               NaN                NaN   \n",
       "\n",
       "  dropoff_location  \n",
       "0             None  \n",
       "1             None  \n",
       "2             None  \n",
       "3             None  \n",
       "4             None  \n",
       "\n",
       "[5 rows x 23 columns]"
      ]
     },
     "execution_count": 2,
     "metadata": {},
     "output_type": "execute_result"
    }
   ],
   "source": [
    "from google.cloud import bigquery\n",
    "\n",
    "# Create a \"Client\" object\n",
    "client = bigquery.Client()\n",
    "\n",
    "# Construct a reference to the \"chicago_taxi_trips\" dataset\n",
    "dataset_ref = client.dataset(\"chicago_taxi_trips\", project=\"bigquery-public-data\")\n",
    "\n",
    "# API request - fetch the dataset\n",
    "dataset = client.get_dataset(dataset_ref)\n",
    "\n",
    "# Construct a reference to the \"taxi_trips\" table\n",
    "table_ref = dataset_ref.table(\"taxi_trips\")\n",
    "\n",
    "# API request - fetch the table\n",
    "table = client.get_table(table_ref)\n",
    "\n",
    "# Preview the first five lines of the table\n",
    "client.list_rows(table, max_results=5).to_dataframe()"
   ]
  },
  {
   "cell_type": "markdown",
   "id": "dbdd3be7",
   "metadata": {
    "papermill": {
     "duration": 0.00373,
     "end_time": "2025-08-18T20:47:22.077592",
     "exception": false,
     "start_time": "2025-08-18T20:47:22.073862",
     "status": "completed"
    },
    "tags": []
   },
   "source": [
    "# Exercises\n",
    "\n",
    "### 1) How can you predict the demand for taxis?\n",
    "\n",
    "Say you work for a taxi company, and you're interested in predicting the demand for taxis.  Towards this goal, you'd like to create a plot that shows a rolling average of the daily number of taxi trips.  Amend the (partial) query below to return a DataFrame with two columns:\n",
    "- `trip_date` - contains one entry for each date from January 1, 2016, to March 31, 2016.\n",
    "- `avg_num_trips` - shows the average number of daily trips, calculated over a window including the value for the current date, along with the values for the preceding 3 days and the following 3 days, as long as the days fit within the three-month time frame.  For instance, when calculating the value in this column for January 3, 2016, the window will include the number of trips for the preceding 2 days, the current date, and the following 3 days.\n",
    "\n",
    "This query is partially completed for you, and you need only write the part that calculates the `avg_num_trips` column.  Note that this query uses a common table expression (CTE); if you need to review how to use CTEs, you're encouraged to check out [this tutorial](https://www.kaggle.com/dansbecker/as-with) in the [Intro to SQL](https://www.kaggle.com/learn/intro-to-sql) course."
   ]
  },
  {
   "cell_type": "code",
   "execution_count": 3,
   "id": "b8893241",
   "metadata": {
    "execution": {
     "iopub.execute_input": "2025-08-18T20:47:22.087004Z",
     "iopub.status.busy": "2025-08-18T20:47:22.086168Z",
     "iopub.status.idle": "2025-08-18T20:47:23.387649Z",
     "shell.execute_reply": "2025-08-18T20:47:23.386909Z"
    },
    "papermill": {
     "duration": 1.30764,
     "end_time": "2025-08-18T20:47:23.389162",
     "exception": false,
     "start_time": "2025-08-18T20:47:22.081522",
     "status": "completed"
    },
    "tags": []
   },
   "outputs": [
    {
     "name": "stderr",
     "output_type": "stream",
     "text": [
      "/usr/local/lib/python3.11/dist-packages/google/cloud/bigquery/table.py:1727: UserWarning: BigQuery Storage module not found, fetch data with the REST endpoint instead.\n",
      "  warnings.warn(\n"
     ]
    },
    {
     "data": {
      "text/html": [
       "<div>\n",
       "<style scoped>\n",
       "    .dataframe tbody tr th:only-of-type {\n",
       "        vertical-align: middle;\n",
       "    }\n",
       "\n",
       "    .dataframe tbody tr th {\n",
       "        vertical-align: top;\n",
       "    }\n",
       "\n",
       "    .dataframe thead th {\n",
       "        text-align: right;\n",
       "    }\n",
       "</style>\n",
       "<table border=\"1\" class=\"dataframe\">\n",
       "  <thead>\n",
       "    <tr style=\"text-align: right;\">\n",
       "      <th></th>\n",
       "      <th>trip_date</th>\n",
       "      <th>avg_num_trips</th>\n",
       "    </tr>\n",
       "  </thead>\n",
       "  <tbody>\n",
       "    <tr>\n",
       "      <th>0</th>\n",
       "      <td>2016-03-16</td>\n",
       "      <td>98023.857143</td>\n",
       "    </tr>\n",
       "    <tr>\n",
       "      <th>1</th>\n",
       "      <td>2016-03-07</td>\n",
       "      <td>92348.571429</td>\n",
       "    </tr>\n",
       "    <tr>\n",
       "      <th>2</th>\n",
       "      <td>2016-03-27</td>\n",
       "      <td>84715.000000</td>\n",
       "    </tr>\n",
       "    <tr>\n",
       "      <th>3</th>\n",
       "      <td>2016-01-13</td>\n",
       "      <td>85459.285714</td>\n",
       "    </tr>\n",
       "    <tr>\n",
       "      <th>4</th>\n",
       "      <td>2016-01-16</td>\n",
       "      <td>84642.285714</td>\n",
       "    </tr>\n",
       "  </tbody>\n",
       "</table>\n",
       "</div>"
      ],
      "text/plain": [
       "    trip_date  avg_num_trips\n",
       "0  2016-03-16   98023.857143\n",
       "1  2016-03-07   92348.571429\n",
       "2  2016-03-27   84715.000000\n",
       "3  2016-01-13   85459.285714\n",
       "4  2016-01-16   84642.285714"
      ]
     },
     "metadata": {},
     "output_type": "display_data"
    },
    {
     "data": {
      "application/javascript": [
       "parent.postMessage({\"jupyterEvent\": \"custom.exercise_interaction\", \"data\": {\"outcomeType\": 1, \"valueTowardsCompletion\": 0.3333333333333333, \"interactionType\": 1, \"questionType\": 2, \"questionId\": \"1_TaxiDemand\", \"learnToolsVersion\": \"0.3.5\", \"failureMessage\": \"\", \"exceptionClass\": \"\", \"trace\": \"\"}}, \"*\")"
      ],
      "text/plain": [
       "<IPython.core.display.Javascript object>"
      ]
     },
     "metadata": {},
     "output_type": "display_data"
    },
    {
     "data": {
      "text/markdown": [
       "<span style=\"color:#33cc33\">Correct</span>"
      ],
      "text/plain": [
       "Correct"
      ]
     },
     "metadata": {},
     "output_type": "display_data"
    }
   ],
   "source": [
    "# Fill in the blank below\n",
    "avg_num_trips_query = \"\"\"\n",
    "                      WITH trips_by_day AS\n",
    "                      (\n",
    "                      SELECT DATE(trip_start_timestamp) AS trip_date,\n",
    "                          COUNT(*) as num_trips\n",
    "                      FROM `bigquery-public-data.chicago_taxi_trips.taxi_trips`\n",
    "                      WHERE trip_start_timestamp > '2016-01-01' AND trip_start_timestamp < '2016-04-01'\n",
    "                      GROUP BY trip_date\n",
    "                      ORDER BY trip_date\n",
    "                      )\n",
    "                      SELECT trip_date,\n",
    "                          AVG(num_trips)\n",
    "                          OVER (\n",
    "                               ORDER BY trip_date\n",
    "                               ROWS BETWEEN 3 PRECEDING AND 3 FOLLOWING \n",
    "                               ) AS avg_num_trips\n",
    "                      FROM trips_by_day\n",
    "                      \"\"\"\n",
    "# Check your answer\n",
    "q_1.check()"
   ]
  },
  {
   "cell_type": "code",
   "execution_count": 4,
   "id": "c4c776b8",
   "metadata": {
    "execution": {
     "iopub.execute_input": "2025-08-18T20:47:23.399084Z",
     "iopub.status.busy": "2025-08-18T20:47:23.398781Z",
     "iopub.status.idle": "2025-08-18T20:47:23.406565Z",
     "shell.execute_reply": "2025-08-18T20:47:23.405677Z"
    },
    "papermill": {
     "duration": 0.014395,
     "end_time": "2025-08-18T20:47:23.408002",
     "exception": false,
     "start_time": "2025-08-18T20:47:23.393607",
     "status": "completed"
    },
    "tags": []
   },
   "outputs": [
    {
     "data": {
      "application/javascript": [
       "parent.postMessage({\"jupyterEvent\": \"custom.exercise_interaction\", \"data\": {\"interactionType\": 3, \"questionType\": 2, \"questionId\": \"1_TaxiDemand\", \"learnToolsVersion\": \"0.3.5\", \"valueTowardsCompletion\": 0.0, \"failureMessage\": \"\", \"exceptionClass\": \"\", \"trace\": \"\", \"outcomeType\": 4}}, \"*\")"
      ],
      "text/plain": [
       "<IPython.core.display.Javascript object>"
      ]
     },
     "metadata": {},
     "output_type": "display_data"
    },
    {
     "data": {
      "text/markdown": [
       "<span style=\"color:#33cc99\">Solution:</span> \n",
       "```python\n",
       "\n",
       "avg_num_trips_query = \"\"\"\n",
       "                      WITH trips_by_day AS\n",
       "                      (\n",
       "                      SELECT DATE(trip_start_timestamp) AS trip_date,\n",
       "                          COUNT(*) as num_trips\n",
       "                      FROM `bigquery-public-data.chicago_taxi_trips.taxi_trips`\n",
       "                      WHERE trip_start_timestamp > '2016-01-01' AND trip_start_timestamp < '2016-04-01'\n",
       "                      GROUP BY trip_date\n",
       "                      )\n",
       "                      SELECT trip_date,\n",
       "                          AVG(num_trips) \n",
       "                          OVER (\n",
       "                               ORDER BY trip_date\n",
       "                               ROWS BETWEEN 3 PRECEDING AND 3 FOLLOWING\n",
       "                               ) AS avg_num_trips\n",
       "                      FROM trips_by_day\n",
       "                      \"\"\"\n",
       "\n",
       "```"
      ],
      "text/plain": [
       "Solution: \n",
       "```python\n",
       "\n",
       "avg_num_trips_query = \"\"\"\n",
       "                      WITH trips_by_day AS\n",
       "                      (\n",
       "                      SELECT DATE(trip_start_timestamp) AS trip_date,\n",
       "                          COUNT(*) as num_trips\n",
       "                      FROM `bigquery-public-data.chicago_taxi_trips.taxi_trips`\n",
       "                      WHERE trip_start_timestamp > '2016-01-01' AND trip_start_timestamp < '2016-04-01'\n",
       "                      GROUP BY trip_date\n",
       "                      )\n",
       "                      SELECT trip_date,\n",
       "                          AVG(num_trips) \n",
       "                          OVER (\n",
       "                               ORDER BY trip_date\n",
       "                               ROWS BETWEEN 3 PRECEDING AND 3 FOLLOWING\n",
       "                               ) AS avg_num_trips\n",
       "                      FROM trips_by_day\n",
       "                      \"\"\"\n",
       "\n",
       "```"
      ]
     },
     "metadata": {},
     "output_type": "display_data"
    }
   ],
   "source": [
    "# Lines below will give you a hint or solution code\n",
    "#q_1.hint()\n",
    "q_1.solution()"
   ]
  },
  {
   "cell_type": "markdown",
   "id": "c3ec6fde",
   "metadata": {
    "papermill": {
     "duration": 0.004207,
     "end_time": "2025-08-18T20:47:23.417092",
     "exception": false,
     "start_time": "2025-08-18T20:47:23.412885",
     "status": "completed"
    },
    "tags": []
   },
   "source": [
    "### 2) Can you separate and order trips by community area?\n",
    "\n",
    "The query below returns a DataFrame with three columns from the table: `pickup_community_area`, `trip_start_timestamp`, and `trip_end_timestamp`.  \n",
    "\n",
    "Amend the query to return an additional column called `trip_number` which shows the order in which the trips were taken from their respective community areas.  So, the first trip of the day originating from community area 1 should receive a value of 1; the second trip of the day from the same area should receive a value of 2.  Likewise, the first trip of the day from community area 2 should receive a value of 1, and so on.\n",
    "\n",
    "Note that there are many numbering functions that can be used to solve this problem (depending on how you want to deal with trips that started at the same time from the same community area); to answer this question, please use the **RANK()** function."
   ]
  },
  {
   "cell_type": "code",
   "execution_count": 5,
   "id": "302be300",
   "metadata": {
    "execution": {
     "iopub.execute_input": "2025-08-18T20:47:23.427071Z",
     "iopub.status.busy": "2025-08-18T20:47:23.426787Z",
     "iopub.status.idle": "2025-08-18T20:47:27.419978Z",
     "shell.execute_reply": "2025-08-18T20:47:27.419111Z"
    },
    "papermill": {
     "duration": 3.999948,
     "end_time": "2025-08-18T20:47:27.421513",
     "exception": false,
     "start_time": "2025-08-18T20:47:23.421565",
     "status": "completed"
    },
    "tags": []
   },
   "outputs": [
    {
     "name": "stderr",
     "output_type": "stream",
     "text": [
      "/usr/local/lib/python3.11/dist-packages/google/cloud/bigquery/table.py:1727: UserWarning: BigQuery Storage module not found, fetch data with the REST endpoint instead.\n",
      "  warnings.warn(\n"
     ]
    },
    {
     "data": {
      "text/html": [
       "<div>\n",
       "<style scoped>\n",
       "    .dataframe tbody tr th:only-of-type {\n",
       "        vertical-align: middle;\n",
       "    }\n",
       "\n",
       "    .dataframe tbody tr th {\n",
       "        vertical-align: top;\n",
       "    }\n",
       "\n",
       "    .dataframe thead th {\n",
       "        text-align: right;\n",
       "    }\n",
       "</style>\n",
       "<table border=\"1\" class=\"dataframe\">\n",
       "  <thead>\n",
       "    <tr style=\"text-align: right;\">\n",
       "      <th></th>\n",
       "      <th>pickup_community_area</th>\n",
       "      <th>trip_start_timestamp</th>\n",
       "      <th>trip_end_timestamp</th>\n",
       "      <th>trip_number</th>\n",
       "    </tr>\n",
       "  </thead>\n",
       "  <tbody>\n",
       "    <tr>\n",
       "      <th>0</th>\n",
       "      <td>1</td>\n",
       "      <td>2013-10-03 00:00:00+00:00</td>\n",
       "      <td>2013-10-03 00:15:00+00:00</td>\n",
       "      <td>1</td>\n",
       "    </tr>\n",
       "    <tr>\n",
       "      <th>1</th>\n",
       "      <td>1</td>\n",
       "      <td>2013-10-03 00:15:00+00:00</td>\n",
       "      <td>2013-10-03 00:15:00+00:00</td>\n",
       "      <td>2</td>\n",
       "    </tr>\n",
       "    <tr>\n",
       "      <th>2</th>\n",
       "      <td>1</td>\n",
       "      <td>2013-10-03 00:30:00+00:00</td>\n",
       "      <td>2013-10-03 01:00:00+00:00</td>\n",
       "      <td>3</td>\n",
       "    </tr>\n",
       "    <tr>\n",
       "      <th>3</th>\n",
       "      <td>1</td>\n",
       "      <td>2013-10-03 00:30:00+00:00</td>\n",
       "      <td>2013-10-03 01:00:00+00:00</td>\n",
       "      <td>3</td>\n",
       "    </tr>\n",
       "    <tr>\n",
       "      <th>4</th>\n",
       "      <td>1</td>\n",
       "      <td>2013-10-03 00:30:00+00:00</td>\n",
       "      <td>2013-10-03 00:45:00+00:00</td>\n",
       "      <td>3</td>\n",
       "    </tr>\n",
       "  </tbody>\n",
       "</table>\n",
       "</div>"
      ],
      "text/plain": [
       "   pickup_community_area      trip_start_timestamp        trip_end_timestamp  \\\n",
       "0                      1 2013-10-03 00:00:00+00:00 2013-10-03 00:15:00+00:00   \n",
       "1                      1 2013-10-03 00:15:00+00:00 2013-10-03 00:15:00+00:00   \n",
       "2                      1 2013-10-03 00:30:00+00:00 2013-10-03 01:00:00+00:00   \n",
       "3                      1 2013-10-03 00:30:00+00:00 2013-10-03 01:00:00+00:00   \n",
       "4                      1 2013-10-03 00:30:00+00:00 2013-10-03 00:45:00+00:00   \n",
       "\n",
       "   trip_number  \n",
       "0            1  \n",
       "1            2  \n",
       "2            3  \n",
       "3            3  \n",
       "4            3  "
      ]
     },
     "metadata": {},
     "output_type": "display_data"
    },
    {
     "data": {
      "application/javascript": [
       "parent.postMessage({\"jupyterEvent\": \"custom.exercise_interaction\", \"data\": {\"outcomeType\": 1, \"valueTowardsCompletion\": 0.3333333333333333, \"interactionType\": 1, \"questionType\": 2, \"questionId\": \"2_CommunityArea\", \"learnToolsVersion\": \"0.3.5\", \"failureMessage\": \"\", \"exceptionClass\": \"\", \"trace\": \"\"}}, \"*\")"
      ],
      "text/plain": [
       "<IPython.core.display.Javascript object>"
      ]
     },
     "metadata": {},
     "output_type": "display_data"
    },
    {
     "data": {
      "text/markdown": [
       "<span style=\"color:#33cc33\">Correct</span>"
      ],
      "text/plain": [
       "Correct"
      ]
     },
     "metadata": {},
     "output_type": "display_data"
    }
   ],
   "source": [
    "# Amend the query below\n",
    "trip_number_query = \"\"\"\n",
    "                        SELECT\n",
    "                        pickup_community_area,\n",
    "                        trip_start_timestamp,\n",
    "                        trip_end_timestamp,\n",
    "                        RANK() \n",
    "                        OVER (\n",
    "                            PARTITION BY pickup_community_area \n",
    "                            ORDER BY trip_start_timestamp\n",
    "                        ) AS trip_number\n",
    "                    FROM `bigquery-public-data.chicago_taxi_trips.taxi_trips`\n",
    "                    WHERE DATE(trip_start_timestamp) = '2013-10-03' \n",
    "                    \"\"\"\n",
    "\n",
    "# Check your answer\n",
    "q_2.check()"
   ]
  },
  {
   "cell_type": "code",
   "execution_count": 6,
   "id": "e0703e81",
   "metadata": {
    "execution": {
     "iopub.execute_input": "2025-08-18T20:47:27.433892Z",
     "iopub.status.busy": "2025-08-18T20:47:27.433584Z",
     "iopub.status.idle": "2025-08-18T20:47:27.440547Z",
     "shell.execute_reply": "2025-08-18T20:47:27.439790Z"
    },
    "papermill": {
     "duration": 0.014071,
     "end_time": "2025-08-18T20:47:27.441875",
     "exception": false,
     "start_time": "2025-08-18T20:47:27.427804",
     "status": "completed"
    },
    "tags": []
   },
   "outputs": [
    {
     "data": {
      "application/javascript": [
       "parent.postMessage({\"jupyterEvent\": \"custom.exercise_interaction\", \"data\": {\"interactionType\": 3, \"questionType\": 2, \"questionId\": \"2_CommunityArea\", \"learnToolsVersion\": \"0.3.5\", \"valueTowardsCompletion\": 0.0, \"failureMessage\": \"\", \"exceptionClass\": \"\", \"trace\": \"\", \"outcomeType\": 4}}, \"*\")"
      ],
      "text/plain": [
       "<IPython.core.display.Javascript object>"
      ]
     },
     "metadata": {},
     "output_type": "display_data"
    },
    {
     "data": {
      "text/markdown": [
       "<span style=\"color:#33cc99\">Solution:</span> \n",
       "```python\n",
       "\n",
       "trip_number_query = \"\"\"\n",
       "                    SELECT pickup_community_area,\n",
       "                        trip_start_timestamp,\n",
       "                        trip_end_timestamp,\n",
       "                        RANK()\n",
       "                            OVER (\n",
       "                                  PARTITION BY pickup_community_area\n",
       "                                  ORDER BY trip_start_timestamp\n",
       "                                 ) AS trip_number\n",
       "                    FROM `bigquery-public-data.chicago_taxi_trips.taxi_trips`\n",
       "                    WHERE DATE(trip_start_timestamp) = '2013-10-03' \n",
       "                    \"\"\"\n",
       "\n",
       "trip_number_result = client.query(trip_number_query).result().to_dataframe()\n",
       "\n",
       "```"
      ],
      "text/plain": [
       "Solution: \n",
       "```python\n",
       "\n",
       "trip_number_query = \"\"\"\n",
       "                    SELECT pickup_community_area,\n",
       "                        trip_start_timestamp,\n",
       "                        trip_end_timestamp,\n",
       "                        RANK()\n",
       "                            OVER (\n",
       "                                  PARTITION BY pickup_community_area\n",
       "                                  ORDER BY trip_start_timestamp\n",
       "                                 ) AS trip_number\n",
       "                    FROM `bigquery-public-data.chicago_taxi_trips.taxi_trips`\n",
       "                    WHERE DATE(trip_start_timestamp) = '2013-10-03' \n",
       "                    \"\"\"\n",
       "\n",
       "trip_number_result = client.query(trip_number_query).result().to_dataframe()\n",
       "\n",
       "```"
      ]
     },
     "metadata": {},
     "output_type": "display_data"
    }
   ],
   "source": [
    "# Lines below will give you a hint or solution code\n",
    "#q_2.hint()\n",
    "q_2.solution()"
   ]
  },
  {
   "cell_type": "markdown",
   "id": "2b3bcb1a",
   "metadata": {
    "papermill": {
     "duration": 0.004927,
     "end_time": "2025-08-18T20:47:27.452001",
     "exception": false,
     "start_time": "2025-08-18T20:47:27.447074",
     "status": "completed"
    },
    "tags": []
   },
   "source": [
    "### 3) How much time elapses between trips?\n",
    "\n",
    "The (partial) query in the code cell below shows, for each trip in the selected time frame, the corresponding `taxi_id`, `trip_start_timestamp`, and `trip_end_timestamp`. \n",
    "\n",
    "Your task in this exercise is to edit the query to include an additional `prev_break` column that shows the length of the break (in minutes) that the driver had before each trip started (this corresponds to the time between `trip_start_timestamp` of the current trip and `trip_end_timestamp` of the previous trip).  Partition the calculation by `taxi_id`, and order the results within each partition by `trip_start_timestamp`.\n",
    "\n",
    "Some sample results are shown below, where all rows correspond to the same driver (or `taxi_id`).  Take the time now to make sure that the values in the `prev_break` column make sense to you!\n",
    "\n",
    "![first_commands](https://storage.googleapis.com/kaggle-media/learn/images/qjvQzg8.png)\n",
    "\n",
    "Note that the first trip of the day for each driver should have a value of **NaN** (not a number) in the `prev_break` column."
   ]
  },
  {
   "cell_type": "code",
   "execution_count": 7,
   "id": "2bb0889a",
   "metadata": {
    "execution": {
     "iopub.execute_input": "2025-08-18T20:47:27.463328Z",
     "iopub.status.busy": "2025-08-18T20:47:27.463041Z",
     "iopub.status.idle": "2025-08-18T20:47:37.637055Z",
     "shell.execute_reply": "2025-08-18T20:47:37.635842Z"
    },
    "papermill": {
     "duration": 10.18159,
     "end_time": "2025-08-18T20:47:37.638667",
     "exception": false,
     "start_time": "2025-08-18T20:47:27.457077",
     "status": "completed"
    },
    "tags": []
   },
   "outputs": [
    {
     "name": "stderr",
     "output_type": "stream",
     "text": [
      "/usr/local/lib/python3.11/dist-packages/google/cloud/bigquery/table.py:1727: UserWarning: BigQuery Storage module not found, fetch data with the REST endpoint instead.\n",
      "  warnings.warn(\n"
     ]
    },
    {
     "data": {
      "text/html": [
       "<div>\n",
       "<style scoped>\n",
       "    .dataframe tbody tr th:only-of-type {\n",
       "        vertical-align: middle;\n",
       "    }\n",
       "\n",
       "    .dataframe tbody tr th {\n",
       "        vertical-align: top;\n",
       "    }\n",
       "\n",
       "    .dataframe thead th {\n",
       "        text-align: right;\n",
       "    }\n",
       "</style>\n",
       "<table border=\"1\" class=\"dataframe\">\n",
       "  <thead>\n",
       "    <tr style=\"text-align: right;\">\n",
       "      <th></th>\n",
       "      <th>taxi_id</th>\n",
       "      <th>trip_start_timestamp</th>\n",
       "      <th>trip_end_timestamp</th>\n",
       "      <th>prev_break</th>\n",
       "    </tr>\n",
       "  </thead>\n",
       "  <tbody>\n",
       "    <tr>\n",
       "      <th>0</th>\n",
       "      <td>145960422e0a08c023dc4616dcb30daeff190b424755b0...</td>\n",
       "      <td>2013-10-03 08:30:00+00:00</td>\n",
       "      <td>2013-10-03 08:30:00+00:00</td>\n",
       "      <td>285</td>\n",
       "    </tr>\n",
       "    <tr>\n",
       "      <th>1</th>\n",
       "      <td>15c03618b76c932fd23d3054627cdbbd21323bd13316f4...</td>\n",
       "      <td>2013-10-03 08:30:00+00:00</td>\n",
       "      <td>2013-10-03 08:45:00+00:00</td>\n",
       "      <td>330</td>\n",
       "    </tr>\n",
       "    <tr>\n",
       "      <th>2</th>\n",
       "      <td>15c03618b76c932fd23d3054627cdbbd21323bd13316f4...</td>\n",
       "      <td>2013-10-03 18:30:00+00:00</td>\n",
       "      <td>2013-10-03 19:15:00+00:00</td>\n",
       "      <td>240</td>\n",
       "    </tr>\n",
       "    <tr>\n",
       "      <th>3</th>\n",
       "      <td>342509ce9f04d14185cf073c4cd71ea079413a622ea3c2...</td>\n",
       "      <td>2013-10-03 07:00:00+00:00</td>\n",
       "      <td>2013-10-03 07:15:00+00:00</td>\n",
       "      <td>375</td>\n",
       "    </tr>\n",
       "    <tr>\n",
       "      <th>4</th>\n",
       "      <td>342509ce9f04d14185cf073c4cd71ea079413a622ea3c2...</td>\n",
       "      <td>2013-10-03 18:15:00+00:00</td>\n",
       "      <td>2013-10-03 18:15:00+00:00</td>\n",
       "      <td>405</td>\n",
       "    </tr>\n",
       "  </tbody>\n",
       "</table>\n",
       "</div>"
      ],
      "text/plain": [
       "                                             taxi_id  \\\n",
       "0  145960422e0a08c023dc4616dcb30daeff190b424755b0...   \n",
       "1  15c03618b76c932fd23d3054627cdbbd21323bd13316f4...   \n",
       "2  15c03618b76c932fd23d3054627cdbbd21323bd13316f4...   \n",
       "3  342509ce9f04d14185cf073c4cd71ea079413a622ea3c2...   \n",
       "4  342509ce9f04d14185cf073c4cd71ea079413a622ea3c2...   \n",
       "\n",
       "       trip_start_timestamp        trip_end_timestamp  prev_break  \n",
       "0 2013-10-03 08:30:00+00:00 2013-10-03 08:30:00+00:00         285  \n",
       "1 2013-10-03 08:30:00+00:00 2013-10-03 08:45:00+00:00         330  \n",
       "2 2013-10-03 18:30:00+00:00 2013-10-03 19:15:00+00:00         240  \n",
       "3 2013-10-03 07:00:00+00:00 2013-10-03 07:15:00+00:00         375  \n",
       "4 2013-10-03 18:15:00+00:00 2013-10-03 18:15:00+00:00         405  "
      ]
     },
     "metadata": {},
     "output_type": "display_data"
    },
    {
     "data": {
      "application/javascript": [
       "parent.postMessage({\"jupyterEvent\": \"custom.exercise_interaction\", \"data\": {\"outcomeType\": 1, \"valueTowardsCompletion\": 0.3333333333333333, \"interactionType\": 1, \"questionType\": 2, \"questionId\": \"3_BreakTime\", \"learnToolsVersion\": \"0.3.5\", \"failureMessage\": \"\", \"exceptionClass\": \"\", \"trace\": \"\"}}, \"*\")"
      ],
      "text/plain": [
       "<IPython.core.display.Javascript object>"
      ]
     },
     "metadata": {},
     "output_type": "display_data"
    },
    {
     "data": {
      "text/markdown": [
       "<span style=\"color:#33cc33\">Correct</span>"
      ],
      "text/plain": [
       "Correct"
      ]
     },
     "metadata": {},
     "output_type": "display_data"
    }
   ],
   "source": [
    "# Fill in the blanks below\n",
    "break_time_query = \"\"\"\n",
    "                   SELECT taxi_id,\n",
    "                       trip_start_timestamp,\n",
    "                       trip_end_timestamp,\n",
    "                       TIMESTAMP_DIFF(\n",
    "                           trip_start_timestamp, \n",
    "                           LAG(trip_end_timestamp) OVER (\n",
    "            PARTITION BY taxi_id \n",
    "            ORDER BY trip_start_timestamp\n",
    "        ),\n",
    "                           MINUTE) as prev_break\n",
    "                   FROM `bigquery-public-data.chicago_taxi_trips.taxi_trips`\n",
    "                   WHERE DATE(trip_start_timestamp) = '2013-10-03' \n",
    "                   \"\"\"\n",
    "\n",
    "# Check your answer\n",
    "q_3.check()"
   ]
  },
  {
   "cell_type": "code",
   "execution_count": 8,
   "id": "95476894",
   "metadata": {
    "execution": {
     "iopub.execute_input": "2025-08-18T20:47:37.650938Z",
     "iopub.status.busy": "2025-08-18T20:47:37.650650Z",
     "iopub.status.idle": "2025-08-18T20:47:37.654721Z",
     "shell.execute_reply": "2025-08-18T20:47:37.653796Z"
    },
    "papermill": {
     "duration": 0.012131,
     "end_time": "2025-08-18T20:47:37.656294",
     "exception": false,
     "start_time": "2025-08-18T20:47:37.644163",
     "status": "completed"
    },
    "tags": []
   },
   "outputs": [],
   "source": [
    "# Lines below will give you a hint or solution code\n",
    "#q_3.hint()\n",
    "#q_3.solution()"
   ]
  },
  {
   "cell_type": "markdown",
   "id": "497a4e0f",
   "metadata": {
    "papermill": {
     "duration": 0.00515,
     "end_time": "2025-08-18T20:47:37.667008",
     "exception": false,
     "start_time": "2025-08-18T20:47:37.661858",
     "status": "completed"
    },
    "tags": []
   },
   "source": [
    "# Keep going\n",
    "\n",
    "Move on to learn how to query **[nested and repeated data](https://www.kaggle.com/alexisbcook/nested-and-repeated-data)**."
   ]
  },
  {
   "cell_type": "markdown",
   "id": "2e1c96f7",
   "metadata": {
    "papermill": {
     "duration": 0.005082,
     "end_time": "2025-08-18T20:47:37.677323",
     "exception": false,
     "start_time": "2025-08-18T20:47:37.672241",
     "status": "completed"
    },
    "tags": []
   },
   "source": [
    "---\n",
    "\n",
    "\n",
    "\n",
    "\n",
    "*Have questions or comments? Visit the [course discussion forum](https://www.kaggle.com/learn/advanced-sql/discussion) to chat with other learners.*"
   ]
  }
 ],
 "metadata": {
  "kaggle": {
   "accelerator": "none",
   "dataSources": [
    {
     "datasetId": 22219,
     "sourceId": 28536,
     "sourceType": "datasetVersion"
    }
   ],
   "isGpuEnabled": false,
   "isInternetEnabled": true,
   "language": "python",
   "sourceType": "notebook"
  },
  "kernelspec": {
   "display_name": "Python 3",
   "language": "python",
   "name": "python3"
  },
  "language_info": {
   "codemirror_mode": {
    "name": "ipython",
    "version": 3
   },
   "file_extension": ".py",
   "mimetype": "text/x-python",
   "name": "python",
   "nbconvert_exporter": "python",
   "pygments_lexer": "ipython3",
   "version": "3.11.13"
  },
  "papermill": {
   "default_parameters": {},
   "duration": 74.180442,
   "end_time": "2025-08-18T20:47:40.754756",
   "environment_variables": {},
   "exception": null,
   "input_path": "__notebook__.ipynb",
   "output_path": "__notebook__.ipynb",
   "parameters": {},
   "start_time": "2025-08-18T20:46:26.574314",
   "version": "2.6.0"
  }
 },
 "nbformat": 4,
 "nbformat_minor": 5
}
