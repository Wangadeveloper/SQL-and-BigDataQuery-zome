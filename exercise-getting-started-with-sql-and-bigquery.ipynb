{
 "cells": [
  {
   "cell_type": "markdown",
   "id": "b436049b",
   "metadata": {
    "papermill": {
     "duration": 0.005268,
     "end_time": "2025-03-06T08:31:19.930258",
     "exception": false,
     "start_time": "2025-03-06T08:31:19.924990",
     "status": "completed"
    },
    "tags": []
   },
   "source": [
    "**This notebook is an exercise in the [SQL](https://www.kaggle.com/learn/intro-to-sql) course.  You can reference the tutorial at [this link](https://www.kaggle.com/dansbecker/getting-started-with-sql-and-bigquery).**\n",
    "\n",
    "---\n"
   ]
  },
  {
   "cell_type": "markdown",
   "id": "63b128b2",
   "metadata": {
    "papermill": {
     "duration": 0.004257,
     "end_time": "2025-03-06T08:31:19.939648",
     "exception": false,
     "start_time": "2025-03-06T08:31:19.935391",
     "status": "completed"
    },
    "tags": []
   },
   "source": [
    "# Introduction\n",
    "\n",
    "The first test of your new data exploration skills uses data describing crime in the city of Chicago.\n",
    "\n",
    "Before you get started, run the following cell. It sets up the automated feedback system to review your answers."
   ]
  },
  {
   "cell_type": "code",
   "execution_count": 1,
   "id": "263d1380",
   "metadata": {
    "execution": {
     "iopub.execute_input": "2025-03-06T08:31:19.951863Z",
     "iopub.status.busy": "2025-03-06T08:31:19.951459Z",
     "iopub.status.idle": "2025-03-06T08:31:37.248285Z",
     "shell.execute_reply": "2025-03-06T08:31:37.247021Z"
    },
    "papermill": {
     "duration": 17.304428,
     "end_time": "2025-03-06T08:31:37.250058",
     "exception": false,
     "start_time": "2025-03-06T08:31:19.945630",
     "status": "completed"
    },
    "tags": []
   },
   "outputs": [
    {
     "name": "stderr",
     "output_type": "stream",
     "text": [
      "/usr/local/lib/python3.10/dist-packages/learntools/sql/ex1.py:64: SyntaxWarning: assertion is always true, perhaps remove parentheses?\n",
      "  assert (type(fields_for_plotting[0] == str), \"The first item in `fields_for_plotting` should be a string.\")\n",
      "/usr/local/lib/python3.10/dist-packages/learntools/sql/ex1.py:65: SyntaxWarning: assertion is always true, perhaps remove parentheses?\n",
      "  assert (type(fields_for_plotting[1] == str), \"The second item in `fields_for_plotting` should be a string.\")\n"
     ]
    },
    {
     "name": "stdout",
     "output_type": "stream",
     "text": [
      "Using Kaggle's public dataset BigQuery integration.\n",
      "Setup Complete\n"
     ]
    }
   ],
   "source": [
    "# Set up feedack system\n",
    "from learntools.core import binder\n",
    "binder.bind(globals())\n",
    "from learntools.sql.ex1 import *\n",
    "print(\"Setup Complete\")"
   ]
  },
  {
   "cell_type": "markdown",
   "id": "e400e8d3",
   "metadata": {
    "papermill": {
     "duration": 0.005195,
     "end_time": "2025-03-06T08:31:37.260384",
     "exception": false,
     "start_time": "2025-03-06T08:31:37.255189",
     "status": "completed"
    },
    "tags": []
   },
   "source": [
    "Use the next code cell to fetch the dataset."
   ]
  },
  {
   "cell_type": "code",
   "execution_count": 2,
   "id": "c480b127",
   "metadata": {
    "execution": {
     "iopub.execute_input": "2025-03-06T08:31:37.272849Z",
     "iopub.status.busy": "2025-03-06T08:31:37.271954Z",
     "iopub.status.idle": "2025-03-06T08:31:37.671054Z",
     "shell.execute_reply": "2025-03-06T08:31:37.669912Z"
    },
    "papermill": {
     "duration": 0.407824,
     "end_time": "2025-03-06T08:31:37.672976",
     "exception": false,
     "start_time": "2025-03-06T08:31:37.265152",
     "status": "completed"
    },
    "tags": []
   },
   "outputs": [
    {
     "name": "stdout",
     "output_type": "stream",
     "text": [
      "Using Kaggle's public dataset BigQuery integration.\n"
     ]
    }
   ],
   "source": [
    "from google.cloud import bigquery\n",
    "\n",
    "# Create a \"Client\" object\n",
    "client = bigquery.Client()\n",
    "\n",
    "# Construct a reference to the \"chicago_crime\" dataset\n",
    "dataset_ref = client.dataset(\"chicago_crime\", project=\"bigquery-public-data\")\n",
    "\n",
    "# API request - fetch the dataset\n",
    "dataset = client.get_dataset(dataset_ref)"
   ]
  },
  {
   "cell_type": "markdown",
   "id": "2f657bf3",
   "metadata": {
    "papermill": {
     "duration": 0.004501,
     "end_time": "2025-03-06T08:31:37.682455",
     "exception": false,
     "start_time": "2025-03-06T08:31:37.677954",
     "status": "completed"
    },
    "tags": []
   },
   "source": [
    "# Exercises\n",
    "\n",
    "### 1) Count tables in the dataset\n",
    "\n",
    "How many tables are in the Chicago Crime dataset?"
   ]
  },
  {
   "cell_type": "code",
   "execution_count": 3,
   "id": "1d7dfd13",
   "metadata": {
    "execution": {
     "iopub.execute_input": "2025-03-06T08:31:37.693665Z",
     "iopub.status.busy": "2025-03-06T08:31:37.693280Z",
     "iopub.status.idle": "2025-03-06T08:31:37.948250Z",
     "shell.execute_reply": "2025-03-06T08:31:37.947088Z"
    },
    "papermill": {
     "duration": 0.262843,
     "end_time": "2025-03-06T08:31:37.950212",
     "exception": false,
     "start_time": "2025-03-06T08:31:37.687369",
     "status": "completed"
    },
    "tags": []
   },
   "outputs": [
    {
     "name": "stdout",
     "output_type": "stream",
     "text": [
      "crime\n"
     ]
    },
    {
     "data": {
      "text/plain": [
       "1"
      ]
     },
     "execution_count": 3,
     "metadata": {},
     "output_type": "execute_result"
    }
   ],
   "source": [
    "# Write the code you need here to figure out the answer\n",
    "tables=list(client.list_tables(dataset))\n",
    "\n",
    "print(tables[0].table_id)\n",
    "\n",
    "len(tables)"
   ]
  },
  {
   "cell_type": "code",
   "execution_count": 4,
   "id": "fc5b4079",
   "metadata": {
    "execution": {
     "iopub.execute_input": "2025-03-06T08:31:37.962096Z",
     "iopub.status.busy": "2025-03-06T08:31:37.961703Z",
     "iopub.status.idle": "2025-03-06T08:31:37.970256Z",
     "shell.execute_reply": "2025-03-06T08:31:37.969081Z"
    },
    "papermill": {
     "duration": 0.016566,
     "end_time": "2025-03-06T08:31:37.971981",
     "exception": false,
     "start_time": "2025-03-06T08:31:37.955415",
     "status": "completed"
    },
    "tags": []
   },
   "outputs": [
    {
     "data": {
      "application/javascript": [
       "parent.postMessage({\"jupyterEvent\": \"custom.exercise_interaction\", \"data\": {\"outcomeType\": 1, \"valueTowardsCompletion\": 0.3333333333333333, \"interactionType\": 1, \"questionType\": 1, \"questionId\": \"1_CountTables\", \"learnToolsVersion\": \"0.3.4\", \"failureMessage\": \"\", \"exceptionClass\": \"\", \"trace\": \"\"}}, \"*\")"
      ],
      "text/plain": [
       "<IPython.core.display.Javascript object>"
      ]
     },
     "metadata": {},
     "output_type": "display_data"
    },
    {
     "data": {
      "text/markdown": [
       "<span style=\"color:#33cc33\">Correct</span>"
      ],
      "text/plain": [
       "Correct"
      ]
     },
     "metadata": {},
     "output_type": "display_data"
    }
   ],
   "source": [
    "num_tables = 1 # Store the answer as num_tables and then run this cell\n",
    "\n",
    "# Check your answer\n",
    "q_1.check()"
   ]
  },
  {
   "cell_type": "markdown",
   "id": "b603c107",
   "metadata": {
    "papermill": {
     "duration": 0.005007,
     "end_time": "2025-03-06T08:31:37.982435",
     "exception": false,
     "start_time": "2025-03-06T08:31:37.977428",
     "status": "completed"
    },
    "tags": []
   },
   "source": [
    "For a hint or the solution, uncomment the appropriate line below."
   ]
  },
  {
   "cell_type": "code",
   "execution_count": 5,
   "id": "87fce6c4",
   "metadata": {
    "execution": {
     "iopub.execute_input": "2025-03-06T08:31:37.994830Z",
     "iopub.status.busy": "2025-03-06T08:31:37.994401Z",
     "iopub.status.idle": "2025-03-06T08:31:37.998698Z",
     "shell.execute_reply": "2025-03-06T08:31:37.997282Z"
    },
    "papermill": {
     "duration": 0.013144,
     "end_time": "2025-03-06T08:31:38.000845",
     "exception": false,
     "start_time": "2025-03-06T08:31:37.987701",
     "status": "completed"
    },
    "tags": []
   },
   "outputs": [],
   "source": [
    "#q_1.hint()\n",
    "#q_1.solution()"
   ]
  },
  {
   "cell_type": "markdown",
   "id": "a8210208",
   "metadata": {
    "papermill": {
     "duration": 0.004991,
     "end_time": "2025-03-06T08:31:38.011260",
     "exception": false,
     "start_time": "2025-03-06T08:31:38.006269",
     "status": "completed"
    },
    "tags": []
   },
   "source": [
    "### 2) Explore the table schema\n",
    "\n",
    "How many columns in the `crime` table have `TIMESTAMP` data?"
   ]
  },
  {
   "cell_type": "code",
   "execution_count": 6,
   "id": "1fab52d1",
   "metadata": {
    "execution": {
     "iopub.execute_input": "2025-03-06T08:31:38.023162Z",
     "iopub.status.busy": "2025-03-06T08:31:38.022732Z",
     "iopub.status.idle": "2025-03-06T08:31:38.492604Z",
     "shell.execute_reply": "2025-03-06T08:31:38.491510Z"
    },
    "papermill": {
     "duration": 0.477861,
     "end_time": "2025-03-06T08:31:38.494387",
     "exception": false,
     "start_time": "2025-03-06T08:31:38.016526",
     "status": "completed"
    },
    "tags": []
   },
   "outputs": [
    {
     "data": {
      "text/plain": [
       "[SchemaField('unique_key', 'INTEGER', 'REQUIRED', None, None, (), None),\n",
       " SchemaField('case_number', 'STRING', 'NULLABLE', None, None, (), None),\n",
       " SchemaField('date', 'TIMESTAMP', 'NULLABLE', None, None, (), None),\n",
       " SchemaField('block', 'STRING', 'NULLABLE', None, None, (), None),\n",
       " SchemaField('iucr', 'STRING', 'NULLABLE', None, None, (), None),\n",
       " SchemaField('primary_type', 'STRING', 'NULLABLE', None, None, (), None),\n",
       " SchemaField('description', 'STRING', 'NULLABLE', None, None, (), None),\n",
       " SchemaField('location_description', 'STRING', 'NULLABLE', None, None, (), None),\n",
       " SchemaField('arrest', 'BOOLEAN', 'NULLABLE', None, None, (), None),\n",
       " SchemaField('domestic', 'BOOLEAN', 'NULLABLE', None, None, (), None),\n",
       " SchemaField('beat', 'INTEGER', 'NULLABLE', None, None, (), None),\n",
       " SchemaField('district', 'INTEGER', 'NULLABLE', None, None, (), None),\n",
       " SchemaField('ward', 'INTEGER', 'NULLABLE', None, None, (), None),\n",
       " SchemaField('community_area', 'INTEGER', 'NULLABLE', None, None, (), None),\n",
       " SchemaField('fbi_code', 'STRING', 'NULLABLE', None, None, (), None),\n",
       " SchemaField('x_coordinate', 'FLOAT', 'NULLABLE', None, None, (), None),\n",
       " SchemaField('y_coordinate', 'FLOAT', 'NULLABLE', None, None, (), None),\n",
       " SchemaField('year', 'INTEGER', 'NULLABLE', None, None, (), None),\n",
       " SchemaField('updated_on', 'TIMESTAMP', 'NULLABLE', None, None, (), None),\n",
       " SchemaField('latitude', 'FLOAT', 'NULLABLE', None, None, (), None),\n",
       " SchemaField('longitude', 'FLOAT', 'NULLABLE', None, None, (), None),\n",
       " SchemaField('location', 'STRING', 'NULLABLE', None, None, (), None)]"
      ]
     },
     "execution_count": 6,
     "metadata": {},
     "output_type": "execute_result"
    }
   ],
   "source": [
    "# Write the code to figure out the answer\n",
    "table_ref = dataset_ref.table('crime')\n",
    "\n",
    "crime_table = client.get_table(table_ref)\n",
    "\n",
    "crime_table.schema"
   ]
  },
  {
   "cell_type": "code",
   "execution_count": 7,
   "id": "c69ae9a2",
   "metadata": {
    "execution": {
     "iopub.execute_input": "2025-03-06T08:31:38.506466Z",
     "iopub.status.busy": "2025-03-06T08:31:38.506129Z",
     "iopub.status.idle": "2025-03-06T08:31:38.513509Z",
     "shell.execute_reply": "2025-03-06T08:31:38.512543Z"
    },
    "papermill": {
     "duration": 0.015377,
     "end_time": "2025-03-06T08:31:38.515222",
     "exception": false,
     "start_time": "2025-03-06T08:31:38.499845",
     "status": "completed"
    },
    "tags": []
   },
   "outputs": [
    {
     "data": {
      "application/javascript": [
       "parent.postMessage({\"jupyterEvent\": \"custom.exercise_interaction\", \"data\": {\"outcomeType\": 1, \"valueTowardsCompletion\": 0.3333333333333333, \"interactionType\": 1, \"questionType\": 1, \"questionId\": \"2_CountTimestampFields\", \"learnToolsVersion\": \"0.3.4\", \"failureMessage\": \"\", \"exceptionClass\": \"\", \"trace\": \"\"}}, \"*\")"
      ],
      "text/plain": [
       "<IPython.core.display.Javascript object>"
      ]
     },
     "metadata": {},
     "output_type": "display_data"
    },
    {
     "data": {
      "text/markdown": [
       "<span style=\"color:#33cc33\">Correct</span>"
      ],
      "text/plain": [
       "Correct"
      ]
     },
     "metadata": {},
     "output_type": "display_data"
    }
   ],
   "source": [
    "num_timestamp_fields = 2 # Put your answer here\n",
    "\n",
    "# Check your answer\n",
    "q_2.check()"
   ]
  },
  {
   "cell_type": "markdown",
   "id": "876a3f55",
   "metadata": {
    "papermill": {
     "duration": 0.005103,
     "end_time": "2025-03-06T08:31:38.526157",
     "exception": false,
     "start_time": "2025-03-06T08:31:38.521054",
     "status": "completed"
    },
    "tags": []
   },
   "source": [
    "For a hint or the solution, uncomment the appropriate line below."
   ]
  },
  {
   "cell_type": "code",
   "execution_count": 8,
   "id": "b32cfe40",
   "metadata": {
    "execution": {
     "iopub.execute_input": "2025-03-06T08:31:38.538238Z",
     "iopub.status.busy": "2025-03-06T08:31:38.537850Z",
     "iopub.status.idle": "2025-03-06T08:31:38.549807Z",
     "shell.execute_reply": "2025-03-06T08:31:38.548783Z"
    },
    "papermill": {
     "duration": 0.019962,
     "end_time": "2025-03-06T08:31:38.551538",
     "exception": false,
     "start_time": "2025-03-06T08:31:38.531576",
     "status": "completed"
    },
    "tags": []
   },
   "outputs": [
    {
     "data": {
      "application/javascript": [
       "parent.postMessage({\"jupyterEvent\": \"custom.exercise_interaction\", \"data\": {\"interactionType\": 2, \"questionType\": 1, \"questionId\": \"2_CountTimestampFields\", \"learnToolsVersion\": \"0.3.4\", \"valueTowardsCompletion\": 0.0, \"failureMessage\": \"\", \"exceptionClass\": \"\", \"trace\": \"\", \"outcomeType\": 4}}, \"*\")"
      ],
      "text/plain": [
       "<IPython.core.display.Javascript object>"
      ]
     },
     "metadata": {},
     "output_type": "display_data"
    },
    {
     "data": {
      "text/markdown": [
       "<span style=\"color:#3366cc\">Hint:</span> Begin by fetching the `crime` table. Then take a look at the table schema, and check the field type of each column.  How many times does `'TIMESTAMP'` appear?"
      ],
      "text/plain": [
       "Hint: Begin by fetching the `crime` table. Then take a look at the table schema, and check the field type of each column.  How many times does `'TIMESTAMP'` appear?"
      ]
     },
     "metadata": {},
     "output_type": "display_data"
    },
    {
     "data": {
      "application/javascript": [
       "parent.postMessage({\"jupyterEvent\": \"custom.exercise_interaction\", \"data\": {\"interactionType\": 3, \"questionType\": 1, \"questionId\": \"2_CountTimestampFields\", \"learnToolsVersion\": \"0.3.4\", \"valueTowardsCompletion\": 0.0, \"failureMessage\": \"\", \"exceptionClass\": \"\", \"trace\": \"\", \"outcomeType\": 4}}, \"*\")"
      ],
      "text/plain": [
       "<IPython.core.display.Javascript object>"
      ]
     },
     "metadata": {},
     "output_type": "display_data"
    },
    {
     "data": {
      "text/markdown": [
       "<span style=\"color:#33cc99\">Solution:</span> \n",
       "```python\n",
       "\n",
       "# Construct a reference to the \"crime\" table\n",
       "table_ref = dataset_ref.table(\"crime\")\n",
       "\n",
       "# API request - fetch the table\n",
       "table = client.get_table(table_ref)\n",
       "\n",
       "# Print information on all the columns in the \"crime\" table in the \"chicago_crime\" dataset\n",
       "print(table.schema)\n",
       "\n",
       "num_timestamp_fields = 2\n",
       "\n",
       "```"
      ],
      "text/plain": [
       "Solution: \n",
       "```python\n",
       "\n",
       "# Construct a reference to the \"crime\" table\n",
       "table_ref = dataset_ref.table(\"crime\")\n",
       "\n",
       "# API request - fetch the table\n",
       "table = client.get_table(table_ref)\n",
       "\n",
       "# Print information on all the columns in the \"crime\" table in the \"chicago_crime\" dataset\n",
       "print(table.schema)\n",
       "\n",
       "num_timestamp_fields = 2\n",
       "\n",
       "```"
      ]
     },
     "metadata": {},
     "output_type": "display_data"
    }
   ],
   "source": [
    "q_2.hint()\n",
    "q_2.solution()"
   ]
  },
  {
   "cell_type": "markdown",
   "id": "a1eea0cb",
   "metadata": {
    "papermill": {
     "duration": 0.005658,
     "end_time": "2025-03-06T08:31:38.563343",
     "exception": false,
     "start_time": "2025-03-06T08:31:38.557685",
     "status": "completed"
    },
    "tags": []
   },
   "source": [
    "### 3) Create a crime map\n",
    "\n",
    "If you wanted to create a map with a dot at the location of each crime, what are the names of the two fields you likely need to pull out of the `crime` table to plot the crimes on a map?"
   ]
  },
  {
   "cell_type": "code",
   "execution_count": 9,
   "id": "2073c5d3",
   "metadata": {
    "execution": {
     "iopub.execute_input": "2025-03-06T08:31:38.577900Z",
     "iopub.status.busy": "2025-03-06T08:31:38.577476Z",
     "iopub.status.idle": "2025-03-06T08:31:38.581932Z",
     "shell.execute_reply": "2025-03-06T08:31:38.580717Z"
    },
    "papermill": {
     "duration": 0.013189,
     "end_time": "2025-03-06T08:31:38.583649",
     "exception": false,
     "start_time": "2025-03-06T08:31:38.570460",
     "status": "completed"
    },
    "tags": []
   },
   "outputs": [],
   "source": [
    "# Write the code here to explore the data so you can find the answer\n",
    "fields_for_plotting = ['latitude', 'longitude']"
   ]
  },
  {
   "cell_type": "code",
   "execution_count": 10,
   "id": "134ea52b",
   "metadata": {
    "execution": {
     "iopub.execute_input": "2025-03-06T08:31:38.597895Z",
     "iopub.status.busy": "2025-03-06T08:31:38.597480Z",
     "iopub.status.idle": "2025-03-06T08:31:38.605390Z",
     "shell.execute_reply": "2025-03-06T08:31:38.604382Z"
    },
    "papermill": {
     "duration": 0.017204,
     "end_time": "2025-03-06T08:31:38.607360",
     "exception": false,
     "start_time": "2025-03-06T08:31:38.590156",
     "status": "completed"
    },
    "tags": []
   },
   "outputs": [
    {
     "data": {
      "application/javascript": [
       "parent.postMessage({\"jupyterEvent\": \"custom.exercise_interaction\", \"data\": {\"outcomeType\": 1, \"valueTowardsCompletion\": 0.3333333333333333, \"interactionType\": 1, \"questionType\": 2, \"questionId\": \"3_IdentifyFieldsForPlotting\", \"learnToolsVersion\": \"0.3.4\", \"failureMessage\": \"\", \"exceptionClass\": \"\", \"trace\": \"\"}}, \"*\")"
      ],
      "text/plain": [
       "<IPython.core.display.Javascript object>"
      ]
     },
     "metadata": {},
     "output_type": "display_data"
    },
    {
     "data": {
      "text/markdown": [
       "<span style=\"color:#33cc33\">Correct</span>"
      ],
      "text/plain": [
       "Correct"
      ]
     },
     "metadata": {},
     "output_type": "display_data"
    }
   ],
   "source": [
    "fields_for_plotting = ['latitude', 'longitude'] # Put your answers here\n",
    "\n",
    "# Check your answer\n",
    "q_3.check()"
   ]
  },
  {
   "cell_type": "markdown",
   "id": "bcca8de6",
   "metadata": {
    "papermill": {
     "duration": 0.005899,
     "end_time": "2025-03-06T08:31:38.619691",
     "exception": false,
     "start_time": "2025-03-06T08:31:38.613792",
     "status": "completed"
    },
    "tags": []
   },
   "source": [
    "For a hint or the solution, uncomment the appropriate line below."
   ]
  },
  {
   "cell_type": "code",
   "execution_count": 11,
   "id": "b7d95213",
   "metadata": {
    "execution": {
     "iopub.execute_input": "2025-03-06T08:31:38.634389Z",
     "iopub.status.busy": "2025-03-06T08:31:38.634008Z",
     "iopub.status.idle": "2025-03-06T08:31:38.645246Z",
     "shell.execute_reply": "2025-03-06T08:31:38.644220Z"
    },
    "papermill": {
     "duration": 0.020714,
     "end_time": "2025-03-06T08:31:38.646894",
     "exception": false,
     "start_time": "2025-03-06T08:31:38.626180",
     "status": "completed"
    },
    "tags": []
   },
   "outputs": [
    {
     "data": {
      "application/javascript": [
       "parent.postMessage({\"jupyterEvent\": \"custom.exercise_interaction\", \"data\": {\"interactionType\": 2, \"questionType\": 2, \"questionId\": \"3_IdentifyFieldsForPlotting\", \"learnToolsVersion\": \"0.3.4\", \"valueTowardsCompletion\": 0.0, \"failureMessage\": \"\", \"exceptionClass\": \"\", \"trace\": \"\", \"outcomeType\": 4}}, \"*\")"
      ],
      "text/plain": [
       "<IPython.core.display.Javascript object>"
      ]
     },
     "metadata": {},
     "output_type": "display_data"
    },
    {
     "data": {
      "text/markdown": [
       "<span style=\"color:#3366cc\">Hint:</span> Look at the table schema.  There are a couple options, but two of the fields are things commonly used to plot on maps. Both are `'FLOAT'` types. Use quotes around the field names in your answer."
      ],
      "text/plain": [
       "Hint: Look at the table schema.  There are a couple options, but two of the fields are things commonly used to plot on maps. Both are `'FLOAT'` types. Use quotes around the field names in your answer."
      ]
     },
     "metadata": {},
     "output_type": "display_data"
    },
    {
     "data": {
      "application/javascript": [
       "parent.postMessage({\"jupyterEvent\": \"custom.exercise_interaction\", \"data\": {\"interactionType\": 3, \"questionType\": 2, \"questionId\": \"3_IdentifyFieldsForPlotting\", \"learnToolsVersion\": \"0.3.4\", \"valueTowardsCompletion\": 0.0, \"failureMessage\": \"\", \"exceptionClass\": \"\", \"trace\": \"\", \"outcomeType\": 4}}, \"*\")"
      ],
      "text/plain": [
       "<IPython.core.display.Javascript object>"
      ]
     },
     "metadata": {},
     "output_type": "display_data"
    },
    {
     "data": {
      "text/markdown": [
       "<span style=\"color:#33cc99\">Solution:</span> \n",
       "```python\n",
       "fields_for_plotting = ['latitude', 'longitude']\n",
       "```"
      ],
      "text/plain": [
       "Solution: \n",
       "```python\n",
       "fields_for_plotting = ['latitude', 'longitude']\n",
       "```"
      ]
     },
     "metadata": {},
     "output_type": "display_data"
    }
   ],
   "source": [
    "q_3.hint()\n",
    "q_3.solution()"
   ]
  },
  {
   "cell_type": "markdown",
   "id": "32105549",
   "metadata": {
    "papermill": {
     "duration": 0.006783,
     "end_time": "2025-03-06T08:31:38.660874",
     "exception": false,
     "start_time": "2025-03-06T08:31:38.654091",
     "status": "completed"
    },
    "tags": []
   },
   "source": [
    "Thinking about the question above, there are a few columns that appear to have geographic data. Look at a few values (with the `list_rows()` command) to see if you can determine their relationship.  Two columns will still be hard to interpret. But it should be obvious how the `location` column relates to `latitude` and `longitude`."
   ]
  },
  {
   "cell_type": "code",
   "execution_count": 12,
   "id": "01213aea",
   "metadata": {
    "execution": {
     "iopub.execute_input": "2025-03-06T08:31:38.675343Z",
     "iopub.status.busy": "2025-03-06T08:31:38.674964Z",
     "iopub.status.idle": "2025-03-06T08:31:39.153613Z",
     "shell.execute_reply": "2025-03-06T08:31:39.151896Z"
    },
    "papermill": {
     "duration": 0.488152,
     "end_time": "2025-03-06T08:31:39.155654",
     "exception": false,
     "start_time": "2025-03-06T08:31:38.667502",
     "status": "completed"
    },
    "tags": []
   },
   "outputs": [
    {
     "data": {
      "text/html": [
       "<div>\n",
       "<style scoped>\n",
       "    .dataframe tbody tr th:only-of-type {\n",
       "        vertical-align: middle;\n",
       "    }\n",
       "\n",
       "    .dataframe tbody tr th {\n",
       "        vertical-align: top;\n",
       "    }\n",
       "\n",
       "    .dataframe thead th {\n",
       "        text-align: right;\n",
       "    }\n",
       "</style>\n",
       "<table border=\"1\" class=\"dataframe\">\n",
       "  <thead>\n",
       "    <tr style=\"text-align: right;\">\n",
       "      <th></th>\n",
       "      <th>latitude</th>\n",
       "      <th>longitude</th>\n",
       "      <th>location</th>\n",
       "    </tr>\n",
       "  </thead>\n",
       "  <tbody>\n",
       "    <tr>\n",
       "      <th>0</th>\n",
       "      <td>41.888046</td>\n",
       "      <td>-87.625414</td>\n",
       "      <td>(41.888045958, -87.625413826)</td>\n",
       "    </tr>\n",
       "    <tr>\n",
       "      <th>1</th>\n",
       "      <td>41.885303</td>\n",
       "      <td>-87.627930</td>\n",
       "      <td>(41.885303483, -87.627930307)</td>\n",
       "    </tr>\n",
       "    <tr>\n",
       "      <th>2</th>\n",
       "      <td>41.886817</td>\n",
       "      <td>-87.630352</td>\n",
       "      <td>(41.886816689, -87.630352182)</td>\n",
       "    </tr>\n",
       "    <tr>\n",
       "      <th>3</th>\n",
       "      <td>41.883500</td>\n",
       "      <td>-87.627877</td>\n",
       "      <td>(41.883500187, -87.627876698)</td>\n",
       "    </tr>\n",
       "    <tr>\n",
       "      <th>4</th>\n",
       "      <td>41.885182</td>\n",
       "      <td>-87.642757</td>\n",
       "      <td>(41.885182294, -87.642757034)</td>\n",
       "    </tr>\n",
       "  </tbody>\n",
       "</table>\n",
       "</div>"
      ],
      "text/plain": [
       "    latitude  longitude                       location\n",
       "0  41.888046 -87.625414  (41.888045958, -87.625413826)\n",
       "1  41.885303 -87.627930  (41.885303483, -87.627930307)\n",
       "2  41.886817 -87.630352  (41.886816689, -87.630352182)\n",
       "3  41.883500 -87.627877  (41.883500187, -87.627876698)\n",
       "4  41.885182 -87.642757  (41.885182294, -87.642757034)"
      ]
     },
     "execution_count": 12,
     "metadata": {},
     "output_type": "execute_result"
    }
   ],
   "source": [
    "# Scratch space for your code\n",
    "client.list_rows(crime_table,selected_fields=crime_table.schema[-3:],max_results=5).to_dataframe()"
   ]
  },
  {
   "cell_type": "markdown",
   "id": "585cf5de",
   "metadata": {
    "papermill": {
     "duration": 0.006605,
     "end_time": "2025-03-06T08:31:39.171705",
     "exception": false,
     "start_time": "2025-03-06T08:31:39.165100",
     "status": "completed"
    },
    "tags": []
   },
   "source": [
    "# Keep going\n",
    "\n",
    "You've looked at the schema, but you haven't yet done anything exciting with the data itself. Things get more interesting when you get to the data, so keep going to **[write your first SQL query](https://www.kaggle.com/dansbecker/select-from-where).**"
   ]
  },
  {
   "cell_type": "markdown",
   "id": "63c4f5eb",
   "metadata": {
    "papermill": {
     "duration": 0.006327,
     "end_time": "2025-03-06T08:31:39.184713",
     "exception": false,
     "start_time": "2025-03-06T08:31:39.178386",
     "status": "completed"
    },
    "tags": []
   },
   "source": [
    "---\n",
    "\n",
    "\n",
    "\n",
    "\n",
    "*Have questions or comments? Visit the [course discussion forum](https://www.kaggle.com/learn/intro-to-sql/discussion) to chat with other learners.*"
   ]
  }
 ],
 "metadata": {
  "kaggle": {
   "accelerator": "none",
   "dataSources": [
    {
     "datasetId": 22090,
     "sourceId": 28376,
     "sourceType": "datasetVersion"
    },
    {
     "datasetId": 6057,
     "sourceId": 285982,
     "sourceType": "datasetVersion"
    }
   ],
   "isGpuEnabled": false,
   "isInternetEnabled": false,
   "language": "python",
   "sourceType": "notebook"
  },
  "kernelspec": {
   "display_name": "Python 3",
   "language": "python",
   "name": "python3"
  },
  "language_info": {
   "codemirror_mode": {
    "name": "ipython",
    "version": 3
   },
   "file_extension": ".py",
   "mimetype": "text/x-python",
   "name": "python",
   "nbconvert_exporter": "python",
   "pygments_lexer": "ipython3",
   "version": "3.10.12"
  },
  "papermill": {
   "default_parameters": {},
   "duration": 24.633201,
   "end_time": "2025-03-06T08:31:41.572149",
   "environment_variables": {},
   "exception": null,
   "input_path": "__notebook__.ipynb",
   "output_path": "__notebook__.ipynb",
   "parameters": {},
   "start_time": "2025-03-06T08:31:16.938948",
   "version": "2.6.0"
  }
 },
 "nbformat": 4,
 "nbformat_minor": 5
}
